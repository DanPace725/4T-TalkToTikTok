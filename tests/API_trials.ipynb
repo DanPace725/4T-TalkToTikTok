{
 "cells": [
  {
   "cell_type": "code",
   "execution_count": 1,
   "metadata": {},
   "outputs": [],
   "source": [
    "import sys\n",
    "sys.path.append('../')\n"
   ]
  },
  {
   "cell_type": "code",
   "execution_count": 2,
   "metadata": {},
   "outputs": [],
   "source": [
    "from flask import Flask, request, jsonify, render_template\n",
    "from src.video_util import download_video\n"
   ]
  },
  {
   "cell_type": "code",
   "execution_count": 3,
   "metadata": {},
   "outputs": [],
   "source": [
    "app = Flask(__name__)\n"
   ]
  },
  {
   "cell_type": "code",
   "execution_count": 4,
   "metadata": {},
   "outputs": [],
   "source": [
    "@app.route('/', methods=['GET', 'POST'])\n",
    "def index():\n",
    "    message = ''\n",
    "    if request.method == 'POST':\n",
    "        url = request.form.get('url')\n",
    "        video_filename = download_video(url)\n",
    "        if video_filename:\n",
    "            message = f\"Video downloaded successfully as {video_filename}\"\n",
    "        else:\n",
    "            message = \"Failed to download video.\"\n",
    "    return render_template('download.html', message=message)"
   ]
  },
  {
   "cell_type": "code",
   "execution_count": 5,
   "metadata": {},
   "outputs": [],
   "source": [
    "\n",
    "@app.route('/download', methods=['POST'])\n",
    "def download_endpoint():\n",
    "    data = request.json\n",
    "    tiktok_url = data.get('url')\n",
    "    \n",
    "    if not tiktok_url:\n",
    "        return jsonify({\"error\": \"URL not provided\"}), 400\n",
    "\n",
    "    video_filename = download_video(tiktok_url)\n",
    "    \n",
    "    if not video_filename:\n",
    "        return jsonify({\"error\": \"Failed to download video\"}), 500\n",
    "\n",
    "    return jsonify({\"video_filename\": video_filename}), 200\n"
   ]
  },
  {
   "cell_type": "code",
   "execution_count": 6,
   "metadata": {},
   "outputs": [
    {
     "data": {
      "text/plain": [
       "' @app.route(\\'/\\')\\ndef index():\\n    return \"Welcome to the TikTok Video Downloader API. Use the /download endpoint to post a TikTok URL for downloading.\" '"
      ]
     },
     "execution_count": 6,
     "metadata": {},
     "output_type": "execute_result"
    }
   ],
   "source": [
    "''' @app.route('/')\n",
    "def index():\n",
    "    return \"Welcome to the TikTok Video Downloader API. Use the /download endpoint to post a TikTok URL for downloading.\" '''\n"
   ]
  },
  {
   "cell_type": "code",
   "execution_count": 7,
   "metadata": {},
   "outputs": [
    {
     "name": "stderr",
     "output_type": "stream",
     "text": [
      "WARNING: This is a development server. Do not use it in a production deployment. Use a production WSGI server instead.\n",
      " * Running on http://localhost:5000\n",
      "Press CTRL+C to quit\n",
      "127.0.0.1 - - [14/Sep/2023 21:44:39] \"GET / HTTP/1.1\" 200 -\n",
      "127.0.0.1 - - [14/Sep/2023 21:44:49] \"POST /download HTTP/1.1\" 400 -\n"
     ]
    }
   ],
   "source": [
    "if __name__ == '__main__':\n",
    "    from werkzeug.serving import run_simple\n",
    "    run_simple('localhost', 5000, app)\n"
   ]
  },
  {
   "attachments": {},
   "cell_type": "markdown",
   "metadata": {},
   "source": [
    "curl -X POST -H \"Content-Type: application/json\" --data $data.json http://localhost:5000/download"
   ]
  },
  {
   "attachments": {},
   "cell_type": "markdown",
   "metadata": {},
   "source": [
    "$data = Get-Content -Raw -Path .\\data.json\n",
    "Invoke-WebRequest -Uri http://localhost:5000/download -Method POST -Body $data -ContentType \"application/json\""
   ]
  }
 ],
 "metadata": {
  "kernelspec": {
   "display_name": "Python 3",
   "language": "python",
   "name": "python3"
  },
  "language_info": {
   "codemirror_mode": {
    "name": "ipython",
    "version": 3
   },
   "file_extension": ".py",
   "mimetype": "text/x-python",
   "name": "python",
   "nbconvert_exporter": "python",
   "pygments_lexer": "ipython3",
   "version": "3.11.0"
  },
  "orig_nbformat": 4
 },
 "nbformat": 4,
 "nbformat_minor": 2
}
